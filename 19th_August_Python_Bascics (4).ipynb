{
 "cells": [
  {
   "cell_type": "code",
   "execution_count": 8,
   "id": "5098a881-26f2-462c-8aa7-7667fad54fd4",
   "metadata": {},
   "outputs": [],
   "source": [
    "# 1st Question!"
   ]
  },
  {
   "cell_type": "markdown",
   "id": "6e876ca7-7ea4-4514-acae-cea259233e43",
   "metadata": {},
   "source": [
    "1. Declare two variables, `x` and `y`, and assign them integer values.Swap the values of these variables without using any temporary variable."
   ]
  },
  {
   "cell_type": "code",
   "execution_count": 1,
   "id": "c9e30837-7fd0-4896-9b11-75a4c719ca8e",
   "metadata": {},
   "outputs": [],
   "source": [
    "# Before swapping!!\n",
    "# Here I initialize two variables 'x' and 'y' with values '5' and '10' !!\n",
    "x = 5\n",
    "y = 10"
   ]
  },
  {
   "cell_type": "code",
   "execution_count": 2,
   "id": "773967b1-e93a-447a-b565-c9356e0e97d2",
   "metadata": {},
   "outputs": [],
   "source": [
    "# Now here I am writing the swapping logic!!\n",
    "\n",
    "\"\"\" 1. I add the values of x and y and give the sum to variable x. So now the sum of the original x and y values in x.\n",
    "    2. I subtract the original value of y from the updated x (which contains the sum of the original x and y) and give the result to variable y. This stores the original value of x in y.\n",
    "    3. I subtract the original value of y (which is now stored in y) from the updated x (which is the sum of the original x and y) and assign the result to x. So finally it stores the original value of y in x.\"\"\"\n",
    "\n",
    "\n",
    "x = x+y\n",
    "y = x-y\n",
    "x = x-y"
   ]
  },
  {
   "cell_type": "code",
   "execution_count": 3,
   "id": "9df43ea6-d090-451a-bff0-727b7e946b58",
   "metadata": {},
   "outputs": [
    {
     "name": "stdout",
     "output_type": "stream",
     "text": [
      "After swapping!!\n",
      "x = 10\n",
      "y = 5\n"
     ]
    }
   ],
   "source": [
    "# Here I just print the value of 'x' and 'y' after the swapping!!\n",
    "\n",
    "print(\"After swapping!!\")\n",
    "print(\"x =\", x)\n",
    "print(\"y =\", y)"
   ]
  },
  {
   "cell_type": "markdown",
   "id": "45ea323a-94cd-4e63-bb9a-cddadcc10ded",
   "metadata": {},
   "source": [
    "\n",
    "THE ABOVE CODE IS AN EXAMPLE OF SWAPPING TWO VARIABLES WITHOUT USING A TEMPORY VARIABLE.\n",
    "I USE HERE BASIC ARITHMETIC OPERATIONS FOR SWAPPING."
   ]
  },
  {
   "cell_type": "code",
   "execution_count": 4,
   "id": "38d2cd2f-1790-4b3b-80d5-1b41b02d0986",
   "metadata": {},
   "outputs": [],
   "source": [
    "# 2nd Question!!"
   ]
  },
  {
   "cell_type": "markdown",
   "id": "039db362-0286-4cb2-91d3-b00fdf315c12",
   "metadata": {},
   "source": [
    "2. Create a program that calculates the area of a rectangle.        Take the length and width as inputs from the user and store      them in variables.Calculate and display the area."
   ]
  },
  {
   "cell_type": "code",
   "execution_count": 6,
   "id": "73c4192c-1156-4eca-9e70-4a8ef5262716",
   "metadata": {},
   "outputs": [
    {
     "name": "stdin",
     "output_type": "stream",
     "text": [
      "Enter the length of the rectangle:-  10\n",
      "Enter the width of the rectangle:-  20\n"
     ]
    },
    {
     "name": "stdout",
     "output_type": "stream",
     "text": [
      "The area of recatngle is:-  200.0\n"
     ]
    }
   ],
   "source": [
    "\"\"\" This program calculates the area of a rectangle.\n",
    "    It takes the length and width as inputs from the user,\n",
    "    It calculates the area, and then displays the result.\"\"\"\n",
    "\n",
    "# Here I take input from the user for 'length' and 'width' !!\n",
    "\n",
    "length = float(input(\"Enter the length of the rectangle:- \"))\n",
    "width = float(input(\"Enter the width of the rectangle:- \"))\n",
    "\n",
    "\n",
    "\n",
    "# Here I just apply the logic or formual for calculating the atrea of rectangle !!\n",
    "# I take 'area' as variable and multiply 'length' and 'width' to get the area of rectangle and store the product in variable 'area'!!\n",
    "\n",
    "area = length * width\n",
    "\n",
    "\n",
    "\n",
    "\n",
    "# It dispaly the Area of Rectangle!!\n",
    "\n",
    "print(\"The area of recatngle is:- \", area)"
   ]
  },
  {
   "cell_type": "markdown",
   "id": "38c31934-a72a-49f5-abeb-85283ee053c8",
   "metadata": {},
   "source": [
    "\n",
    "\n",
    "\n",
    "\n",
    "\n",
    "\"\"\"\n",
    "Rectangle Area Calculator\n",
    "\n",
    "This program calculates the area of a rectangle using user-provided\n",
    "length and width values. It then displays the calculated area.\n",
    "\n",
    "Author: [Sourabh Yadav]\n",
    "Date: [20-8-2023]\n",
    "\n",
    "Usage:\n",
    "1. Run the program.\n",
    "2. Enter the length and width of the rectangle.\n",
    "3. The program will calculate and display the area of the rectangle.\n",
    "\n",
    "\"\"\""
   ]
  },
  {
   "cell_type": "code",
   "execution_count": 7,
   "id": "f3d08de9-c383-4814-9d28-03b0ba15a840",
   "metadata": {},
   "outputs": [],
   "source": [
    "# 3rd Question!!"
   ]
  },
  {
   "cell_type": "markdown",
   "id": "7e642df2-1fb4-40df-b663-833a588f30d6",
   "metadata": {},
   "source": [
    " 3. Write a Python program that converts temperature from           Celsius to Fahrenheit. Take the temperature in Celsius as       input, store it in a variable, convert it to Fahrenheit, and     display the result.\n"
   ]
  },
  {
   "cell_type": "code",
   "execution_count": 7,
   "id": "26f6010b-6e71-4349-b16b-2c12ae301cf9",
   "metadata": {},
   "outputs": [
    {
     "name": "stdin",
     "output_type": "stream",
     "text": [
      "Enter temprature in Celsius:-  60\n"
     ]
    },
    {
     "name": "stdout",
     "output_type": "stream",
     "text": [
      "The Temprature in fahrenheit is  140.0\n"
     ]
    }
   ],
   "source": [
    "# Temprature Conversion Program: Celsius to Fahrenheit!!\n",
    "# Here I am taking the temprature in celsius as input from the user!!\n",
    "\n",
    "celsius = float(input(\"Enter temprature in Celsius:- \"))\n",
    "\n",
    "\n",
    "\n",
    "\n",
    "\n",
    "# Here we have a formula to convert celsius to Fahrenheit:-\n",
    "# (C*9/5) + 32\n",
    "\n",
    "fahrenheit = (celsius * 9/5) + 32\n",
    "\n",
    "\n",
    "\n",
    "\n",
    "# The final result is display to the user!!\n",
    "\n",
    "print(\"The Temprature in fahrenheit is \", fahrenheit)\n",
    "\n"
   ]
  },
  {
   "cell_type": "markdown",
   "id": "2bc66a32-da66-479b-a2fb-4e75e482218a",
   "metadata": {},
   "source": [
    "\n",
    "\n",
    "# DOCUMENTATION:\n",
    "\n",
    "\"\"\" 1. This program is a simple temperature conversion tool that        takes a temperature in Celsius as input and converts it          to Fahrenheit.\n",
    "    2. The conversion from Celsius to Fahrenheit is performed          using the formula (C × 9/5) + 32, where C is the                temperature in Celsius. The result is stored in the              variable fahrenheit.\n",
    "    3. The program uses the print() function to display the            original temperature in Celsius and the converted                temperature in Fahrenheit to the user.\n",
    "\"\"\""
   ]
  },
  {
   "cell_type": "code",
   "execution_count": null,
   "id": "94cdd135-6eb9-4fe2-93cc-20484e283af5",
   "metadata": {},
   "outputs": [],
   "source": [
    "# TOPIC:-  STRING BASED QUESTIONS!!"
   ]
  },
  {
   "cell_type": "code",
   "execution_count": null,
   "id": "522c151f-5269-40fe-9c49-f1962d8a410b",
   "metadata": {},
   "outputs": [],
   "source": [
    "# 1st Question.."
   ]
  },
  {
   "cell_type": "markdown",
   "id": "f2097902-d43f-4771-818b-595a9a607912",
   "metadata": {},
   "source": [
    "1. Write a Python program that takes a string as input and          prints the length of the string.\n"
   ]
  },
  {
   "cell_type": "code",
   "execution_count": 8,
   "id": "60fc2433-e352-4a49-834a-70c7aa895da4",
   "metadata": {},
   "outputs": [
    {
     "name": "stdin",
     "output_type": "stream",
     "text": [
      "Enter a String:-  ertyuigtyui\n"
     ]
    },
    {
     "name": "stdout",
     "output_type": "stream",
     "text": [
      "Length of the String is:-  11\n"
     ]
    }
   ],
   "source": [
    "# This program takes a string as input from the user and then print the length of the string!!\n",
    "\n",
    "\n",
    "# Here I take the input from the user...\n",
    "string = input(\"Enter a String:- \")\n",
    "\n",
    "\n",
    "# Here I use 'len()' function which calculate the length of String!!!\n",
    "length_of_String = len(string)\n",
    "\n",
    "\n",
    "# It prints the length of the string..!\n",
    "print(\"Length of the String is:- \", length_of_String)\n",
    "\n"
   ]
  },
  {
   "cell_type": "markdown",
   "id": "9d581179-8816-4853-9d11-b19f637b5948",
   "metadata": {},
   "source": [
    "\n",
    "\n",
    "\n",
    "\n",
    "\n",
    "# DOCUMENTATION..\n",
    "\n",
    "1. Take a String from the user by using 'input()' function.\n",
    "2. I used here len() function to calculate the length of the string.\n",
    "3. Finally the 'print()' function dispaly the length of the string."
   ]
  },
  {
   "cell_type": "code",
   "execution_count": null,
   "id": "4264a8ec-9321-43ec-bd37-9bb85c700547",
   "metadata": {},
   "outputs": [],
   "source": [
    "# 2nd Question.."
   ]
  },
  {
   "cell_type": "markdown",
   "id": "236c090d-87cc-403b-b1e7-8c58f3b6d0b9",
   "metadata": {},
   "source": [
    "2. Create a program that takes a sentence from the user and        counts the number of vowels (a, e, i, o, u) in the string."
   ]
  },
  {
   "cell_type": "code",
   "execution_count": 11,
   "id": "82d13ae2-c16e-4d5e-8a66-d30fdcbd43cb",
   "metadata": {},
   "outputs": [
    {
     "name": "stdin",
     "output_type": "stream",
     "text": [
      "Enter a sentence:-  dtyuijftguhhjghfyguhjhgcf\n"
     ]
    },
    {
     "name": "stdout",
     "output_type": "stream",
     "text": [
      "Number of Vowels:-  4\n"
     ]
    }
   ],
   "source": [
    "# Take a sentence as input from the user..\n",
    "\n",
    "sentence = input(\"Enter a sentence:- \")\n",
    "\n",
    "\n",
    "\n",
    "# Here I take a set which contains both lowercase and uppercase vowels!!\n",
    "\n",
    "vowels = set(\"aeiouAEIOU\")\n",
    "\n",
    "\n",
    "\n",
    "# Here I initialize a variable to track the vowel count..\n",
    "\n",
    "vowel_count = 0\n",
    "\n",
    "\n",
    "\n",
    "\n",
    "# Here I use for loop so it iterates through each character in the sentence..\n",
    "# And then I use here conditionl statement which basically checks that the current character is present in the set of vowel of vowels or not..\n",
    "\n",
    "for char in sentence:\n",
    "    if char in vowels:\n",
    "        vowel_count += 1\n",
    "\n",
    "\n",
    "# Finally it prints the result..\n",
    "\n",
    "print(\"Number of Vowels:- \", vowel_count)\n",
    "\n"
   ]
  },
  {
   "cell_type": "code",
   "execution_count": null,
   "id": "530c2a50-f6a4-4744-9381-86f40a775376",
   "metadata": {},
   "outputs": [],
   "source": [
    "# 3rd Question.."
   ]
  },
  {
   "cell_type": "markdown",
   "id": "41c093fc-9f07-4f12-8a91-2b8d3798a832",
   "metadata": {},
   "source": [
    "3. Given a string, reverse the order of characters using            string slicing and print the reversed string."
   ]
  },
  {
   "cell_type": "code",
   "execution_count": 12,
   "id": "0db79b00-0585-44d0-af45-dae11e107b60",
   "metadata": {},
   "outputs": [
    {
     "name": "stdin",
     "output_type": "stream",
     "text": [
      "Enter a string:-  tuihghfugdhdyuh\n"
     ]
    },
    {
     "name": "stdout",
     "output_type": "stream",
     "text": [
      "Reversed string:-  huydhdgufhghiut\n"
     ]
    }
   ],
   "source": [
    "# In this program I take a input string from the user and then reverse the string using the string slicing concept..\n",
    "\n",
    "\n",
    "# Here I take a input from user..\n",
    "\n",
    "string = input(\"Enter a string:- \")\n",
    "\n",
    "\n",
    "# Here I use -1 string slicing step to reverse the string..\n",
    "\n",
    "reversed_string = string[::-1]\n",
    "\n",
    "\n",
    "# It shows the reversed string!!\n",
    "\n",
    "print(\"Reversed string:- \", reversed_string)"
   ]
  },
  {
   "cell_type": "markdown",
   "id": "4477fb58-f2dd-44d7-b1ee-e28fd6f71afa",
   "metadata": {},
   "source": [
    "\n",
    "\n",
    "# EXPLANATION:-\n",
    "\n",
    "\n",
    "1. string = input(\"Enter a string: \"): This line used to take the input from the user a string.\n",
    "\n",
    "2. reversed_string = input_string[::-1]: Here, string slicing is used to reverse the order of characters in the string. The slicing syntax [::-1] means that it starts from the end of the string (-1 index) and goes backwards with a step of -1.\n",
    "\n",
    "3. print(\"Reversed string:\", reversed_string): Finally, the reversed string is printed. The print() function displays the \"Reversed string:\" with the value of reversed_string.\n"
   ]
  },
  {
   "cell_type": "code",
   "execution_count": null,
   "id": "1c7d6161-97a9-465d-addf-edd2ef03e7e0",
   "metadata": {},
   "outputs": [],
   "source": [
    "# 4th Question.."
   ]
  },
  {
   "cell_type": "markdown",
   "id": "804d7f16-153c-4059-a977-1192adb8f3e2",
   "metadata": {},
   "source": [
    "4. Write a program that takes a string as input and checks if it    is a palindrome (reads the same forwards and backwards)."
   ]
  },
  {
   "cell_type": "code",
   "execution_count": null,
   "id": "add08193-4e18-4405-b8b3-5de83b404969",
   "metadata": {},
   "outputs": [],
   "source": [
    "\"\"\" The program checks if the entered word or phrase reads the same forwards and backwards (ignoring spaces and letter case), letting you know if it's a palindrome or not.\"\"\""
   ]
  },
  {
   "cell_type": "code",
   "execution_count": 13,
   "id": "2a2af2f9-940c-44e4-9559-3268525f31fe",
   "metadata": {},
   "outputs": [
    {
     "name": "stdin",
     "output_type": "stream",
     "text": [
      "Enter a string:-  yujgvfhuhjvgghvguhjghuhhjhg\n"
     ]
    },
    {
     "name": "stdout",
     "output_type": "stream",
     "text": [
      "The input string is not a palindrome.\n"
     ]
    }
   ],
   "source": [
    "\n",
    "\n",
    "# Here user have to give a input string to check whether it is palindrome or not..\n",
    "\n",
    "string = input(\"Enter a string:- \")\n",
    "\n",
    "\n",
    "\n",
    "# The program creates a new storage called cleaned_str. It simplifies what you typed by removing spaces and making everything lowercase, ensuring the program can ignore spaces and letter sizes during checking.\n",
    "\n",
    "cleaned_str = string.replace(\" \", \"\").lower()\n",
    "\n",
    "\n",
    "\n",
    "# Compare the cleaned string with its reverse to check if it's a palindrome..\n",
    "\n",
    "if cleaned_str == cleaned_str[::-1]:\n",
    "    print(\"The input string is a palindrome.\")\n",
    "else:\n",
    "    print(\"The input string is not a palindrome.\")\n",
    "\n"
   ]
  },
  {
   "cell_type": "markdown",
   "id": "6389693b-9f11-4552-8456-5afccbd9196d",
   "metadata": {},
   "source": [
    "# EXPLANATION..\n",
    "\n",
    "Purpose: This program helps you know if a word or sentence is a palindrome, which is like a word that's the same if you read it backwards.\n",
    "\n",
    "Steps:\n",
    "\n",
    "1.It asks you to type a word or sentence.\n",
    "\n",
    "2.Then, it takes away empty spaces and makes everything lowercase so it's easier to compare.\n",
    "\n",
    "3.Finally, it checks if what you wrote is the same as if you read it the other way around. If it is, it says it's a palindrome. If not, it says it's not.\n"
   ]
  },
  {
   "cell_type": "code",
   "execution_count": 5,
   "id": "043c8e3e-b23c-4665-8ae7-e59fd00f2a6a",
   "metadata": {},
   "outputs": [],
   "source": [
    "\n",
    "\n",
    "\n",
    "# 5th Question..\n"
   ]
  },
  {
   "cell_type": "markdown",
   "id": "598117dc-912b-4edf-81b7-ad456068c6d4",
   "metadata": {},
   "source": [
    "5. Create a program that takes a string as input and removes all    the spaces from it. Print the modified string without spaces."
   ]
  },
  {
   "cell_type": "code",
   "execution_count": 14,
   "id": "945ef0a1-fb48-4838-a225-c17e4cc7203a",
   "metadata": {},
   "outputs": [
    {
     "name": "stdin",
     "output_type": "stream",
     "text": [
      "Enter a sentence:-  wyegfuywe iufiuiu iwueyieyouwgo iuikuhgi r\n"
     ]
    },
    {
     "name": "stdout",
     "output_type": "stream",
     "text": [
      "New sentence without spaces:-  wyegfuyweiufiuiuiwueyieyouwgoiuikuhgir\n"
     ]
    }
   ],
   "source": [
    "# This program takes a sentence as input ans removes all the spaces from it.\n",
    "\n",
    "\n",
    "# input() function takes a sentence as input from the user..\n",
    "sentence = input(\"Enter a sentence:- \")\n",
    "\n",
    "\n",
    "#  Remove spaces from the sentence using the replace() function..\n",
    "new_sentence = sentence.replace(\" \", \"\" )\n",
    "\n",
    "\n",
    "# Now it print the new sentence without spaces..\n",
    "print(\"New sentence without spaces:- \", new_sentence)"
   ]
  },
  {
   "cell_type": "markdown",
   "id": "c05fd790-4e0b-4542-8758-2808c09712fd",
   "metadata": {},
   "source": [
    "\n",
    "\n",
    "\n",
    "# EXPLANATION:\n",
    "\n",
    "1. The user is asked to input a sentence using the 'input()' function.The entered sentence is stored in the variable'sentence'.\n",
    "2. Then I use the 'replace()' function to remove all the spaces from thr 'sentences'.\n",
    "3. The 'sentence.replace(\" \",\"\")' is used to repalce '\" \"' with the empty string '\"\"'\n",
    "4. The final result we get a new string without any spaces and store in a new variable 'new_sentence'.\n",
    "5. Then Dispaly the final output using the print() function."
   ]
  }
 ],
 "metadata": {
  "kernelspec": {
   "display_name": "Python 3 (ipykernel)",
   "language": "python",
   "name": "python3"
  },
  "language_info": {
   "codemirror_mode": {
    "name": "ipython",
    "version": 3
   },
   "file_extension": ".py",
   "mimetype": "text/x-python",
   "name": "python",
   "nbconvert_exporter": "python",
   "pygments_lexer": "ipython3",
   "version": "3.10.12"
  }
 },
 "nbformat": 4,
 "nbformat_minor": 5
}
